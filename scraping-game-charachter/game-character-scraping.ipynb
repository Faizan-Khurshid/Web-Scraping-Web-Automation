{
 "cells": [
  {
   "cell_type": "code",
   "execution_count": 1,
   "metadata": {},
   "outputs": [],
   "source": [
    "from selenium import webdriver\n",
    "import  urllib.request"
   ]
  },
  {
   "cell_type": "code",
   "execution_count": 2,
   "metadata": {},
   "outputs": [],
   "source": [
    "driver = webdriver.Chrome(\"E:\\softwares\\chromedriver_win32\\chromedriver.exe\")\n",
    "driver.get('https://na.leagueoflegends.com/en-us/champions/')\n",
    "pics = driver.find_elements_by_xpath('//a[contains(@class, \"style__Wrapper-sc-12h96bu-0\")]//img')\n",
    "title= driver.find_elements_by_xpath('//a[contains(@class, \"style__Wrapper-sc-12h96bu-0\")]//span[@class=\"style__Text-sc-12h96bu-3 gPUACV\"]')"
   ]
  },
  {
   "cell_type": "code",
   "execution_count": 4,
   "metadata": {},
   "outputs": [
    {
     "name": "stdout",
     "output_type": "stream",
     "text": [
      "1 image(s) saved\n",
      "2 image(s) saved\n",
      "3 image(s) saved\n",
      "4 image(s) saved\n",
      "5 image(s) saved\n",
      "6 image(s) saved\n",
      "7 image(s) saved\n",
      "8 image(s) saved\n",
      "9 image(s) saved\n",
      "10 image(s) saved\n",
      "11 image(s) saved\n",
      "12 image(s) saved\n",
      "13 image(s) saved\n",
      "14 image(s) saved\n",
      "15 image(s) saved\n",
      "16 image(s) saved\n",
      "17 image(s) saved\n",
      "18 image(s) saved\n",
      "19 image(s) saved\n",
      "20 image(s) saved\n",
      "21 image(s) saved\n",
      "22 image(s) saved\n",
      "23 image(s) saved\n",
      "24 image(s) saved\n",
      "25 image(s) saved\n",
      "26 image(s) saved\n",
      "27 image(s) saved\n",
      "28 image(s) saved\n",
      "29 image(s) saved\n",
      "30 image(s) saved\n",
      "31 image(s) saved\n",
      "32 image(s) saved\n",
      "33 image(s) saved\n",
      "34 image(s) saved\n",
      "35 image(s) saved\n",
      "36 image(s) saved\n",
      "37 image(s) saved\n",
      "38 image(s) saved\n",
      "39 image(s) saved\n",
      "40 image(s) saved\n",
      "41 image(s) saved\n",
      "42 image(s) saved\n",
      "43 image(s) saved\n",
      "44 image(s) saved\n",
      "45 image(s) saved\n",
      "46 image(s) saved\n",
      "47 image(s) saved\n",
      "48 image(s) saved\n",
      "49 image(s) saved\n",
      "50 image(s) saved\n",
      "51 image(s) saved\n",
      "52 image(s) saved\n",
      "53 image(s) saved\n",
      "54 image(s) saved\n",
      "55 image(s) saved\n",
      "56 image(s) saved\n",
      "57 image(s) saved\n",
      "58 image(s) saved\n",
      "59 image(s) saved\n",
      "60 image(s) saved\n",
      "61 image(s) saved\n",
      "62 image(s) saved\n",
      "63 image(s) saved\n",
      "64 image(s) saved\n",
      "65 image(s) saved\n",
      "66 image(s) saved\n",
      "67 image(s) saved\n",
      "68 image(s) saved\n",
      "69 image(s) saved\n",
      "70 image(s) saved\n",
      "71 image(s) saved\n",
      "72 image(s) saved\n",
      "73 image(s) saved\n",
      "74 image(s) saved\n",
      "75 image(s) saved\n",
      "76 image(s) saved\n",
      "77 image(s) saved\n",
      "78 image(s) saved\n",
      "79 image(s) saved\n",
      "80 image(s) saved\n",
      "81 image(s) saved\n",
      "82 image(s) saved\n",
      "83 image(s) saved\n",
      "84 image(s) saved\n",
      "85 image(s) saved\n",
      "86 image(s) saved\n",
      "87 image(s) saved\n",
      "88 image(s) saved\n",
      "89 image(s) saved\n",
      "90 image(s) saved\n",
      "91 image(s) saved\n",
      "92 image(s) saved\n",
      "93 image(s) saved\n",
      "94 image(s) saved\n",
      "95 image(s) saved\n",
      "96 image(s) saved\n",
      "97 image(s) saved\n",
      "98 image(s) saved\n",
      "99 image(s) saved\n",
      "100 image(s) saved\n",
      "101 image(s) saved\n",
      "102 image(s) saved\n",
      "103 image(s) saved\n",
      "104 image(s) saved\n",
      "105 image(s) saved\n",
      "106 image(s) saved\n",
      "107 image(s) saved\n",
      "108 image(s) saved\n",
      "109 image(s) saved\n",
      "110 image(s) saved\n",
      "111 image(s) saved\n",
      "112 image(s) saved\n",
      "113 image(s) saved\n",
      "114 image(s) saved\n",
      "115 image(s) saved\n",
      "116 image(s) saved\n",
      "117 image(s) saved\n",
      "118 image(s) saved\n",
      "119 image(s) saved\n",
      "120 image(s) saved\n",
      "121 image(s) saved\n",
      "122 image(s) saved\n",
      "123 image(s) saved\n",
      "124 image(s) saved\n",
      "125 image(s) saved\n",
      "126 image(s) saved\n",
      "127 image(s) saved\n",
      "128 image(s) saved\n",
      "129 image(s) saved\n",
      "130 image(s) saved\n",
      "131 image(s) saved\n",
      "132 image(s) saved\n",
      "133 image(s) saved\n",
      "134 image(s) saved\n",
      "135 image(s) saved\n",
      "136 image(s) saved\n",
      "137 image(s) saved\n",
      "138 image(s) saved\n",
      "139 image(s) saved\n",
      "140 image(s) saved\n",
      "141 image(s) saved\n",
      "142 image(s) saved\n",
      "143 image(s) saved\n",
      "144 image(s) saved\n",
      "145 image(s) saved\n",
      "146 image(s) saved\n",
      "147 image(s) saved\n",
      "148 image(s) saved\n",
      "149 image(s) saved\n",
      "150 image(s) saved\n",
      "151 image(s) saved\n",
      "152 image(s) saved\n",
      "153 image(s) saved\n",
      "154 image(s) saved\n",
      "155 image(s) saved\n"
     ]
    }
   ],
   "source": [
    "counter = 0\n",
    "for i, pic in enumerate(pics):\n",
    "    counter += 1\n",
    "    src = pic.get_attribute('src')\n",
    "    #downloading and saving the images\n",
    "    urllib.request.urlretrieve(src, f\"./characters-images/{title[i].text}.png\")\n",
    "    print(f\"{counter} image(s) saved\")"
   ]
  },
  {
   "cell_type": "code",
   "execution_count": 11,
   "metadata": {},
   "outputs": [
    {
     "data": {
      "text/plain": [
       "155"
      ]
     },
     "execution_count": 11,
     "metadata": {},
     "output_type": "execute_result"
    }
   ],
   "source": [
    "len(pics) #verify that all the images are saved or not"
   ]
  },
  {
   "cell_type": "code",
   "execution_count": 12,
   "metadata": {
    "scrolled": true
   },
   "outputs": [
    {
     "data": {
      "text/plain": [
       "155"
      ]
     },
     "execution_count": 12,
     "metadata": {},
     "output_type": "execute_result"
    }
   ],
   "source": [
    "len(title) #verify that no of images and titles are same"
   ]
  },
  {
   "cell_type": "code",
   "execution_count": null,
   "metadata": {},
   "outputs": [],
   "source": []
  }
 ],
 "metadata": {
  "kernelspec": {
   "display_name": "Python 3",
   "language": "python",
   "name": "python3"
  },
  "language_info": {
   "codemirror_mode": {
    "name": "ipython",
    "version": 3
   },
   "file_extension": ".py",
   "mimetype": "text/x-python",
   "name": "python",
   "nbconvert_exporter": "python",
   "pygments_lexer": "ipython3",
   "version": "3.7.1"
  }
 },
 "nbformat": 4,
 "nbformat_minor": 2
}
