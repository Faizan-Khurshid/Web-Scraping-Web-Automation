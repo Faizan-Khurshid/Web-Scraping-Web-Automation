{
 "cells": [
  {
   "cell_type": "code",
   "execution_count": 1,
   "metadata": {},
   "outputs": [],
   "source": [
    "from selenium import webdriver\n",
    "from selenium.webdriver.common.keys import Keys\n",
    "from selenium.webdriver.chrome.options import Options\n",
    "import time"
   ]
  },
  {
   "cell_type": "code",
   "execution_count": null,
   "metadata": {},
   "outputs": [
    {
     "name": "stderr",
     "output_type": "stream",
     "text": [
      "C:\\ProgramData\\Anaconda3\\lib\\site-packages\\ipykernel_launcher.py:5: DeprecationWarning: use options instead of chrome_options\n",
      "  \"\"\"\n"
     ]
    },
    {
     "name": "stdout",
     "output_type": "stream",
     "text": [
      "driver.window_handles ['CDwindow-BA5CF9E77E4DE14498FDE51825685F13', 'CDwindow-1CF86E98E34E591BC8C0B32DA9C0BD72']\n"
     ]
    },
    {
     "name": "stderr",
     "output_type": "stream",
     "text": [
      "C:\\ProgramData\\Anaconda3\\lib\\site-packages\\ipykernel_launcher.py:14: DeprecationWarning: use driver.switch_to.window instead\n",
      "  \n",
      "C:\\ProgramData\\Anaconda3\\lib\\site-packages\\ipykernel_launcher.py:23: DeprecationWarning: use driver.switch_to.window instead\n",
      "C:\\ProgramData\\Anaconda3\\lib\\site-packages\\ipykernel_launcher.py:45: DeprecationWarning: use driver.switch_to.window instead\n",
      "C:\\ProgramData\\Anaconda3\\lib\\site-packages\\ipykernel_launcher.py:54: DeprecationWarning: use driver.switch_to.window instead\n"
     ]
    },
    {
     "name": "stdout",
     "output_type": "stream",
     "text": [
      "driver.window_handles ['CDwindow-03175D1048AB8AE43FB46A914DC4D748', 'CDwindow-04A45F752BE8E2ACC5362D1C6EEE4D2E']\n",
      "driver.window_handles ['CDwindow-2BC3B9D9CFC82DDD88BFAAFBED3BF3E2', 'CDwindow-EF2974D9EBE1893ACA8510ED06F1A44A']\n",
      "driver.window_handles ['CDwindow-8FAB20A6BC1CC851B9E9231470BC1BDF', 'CDwindow-2D97DBCAE673F8D514057A96DFC14FEB']\n",
      "driver.window_handles ['CDwindow-9994E3A3B572D26801A3EDE9A7B79808', 'CDwindow-A3842AB508FEF0A11BDB0D3E50F8F36F']\n",
      "driver.window_handles ['CDwindow-EB02B2A5CF98CEC0E6F40A3FD96584D7', 'CDwindow-B6924E324A626E74E91F9CE3024E2483']\n",
      "driver.window_handles ['CDwindow-B29B5FA81454FA87DF1C92B1E203B7C5', 'CDwindow-8FD0AFDEC9657AF3DA2CEF959E3FA5FC']\n",
      "driver.window_handles ['CDwindow-AFA56BDEA991104A45FA9330C6FDBC0C', 'CDwindow-64E131716CE421C1E355FABB3B7AA58C']\n",
      "driver.window_handles ['CDwindow-2C18F0C9E3D698955613E67842C16C8A', 'CDwindow-B15FD59FB5676EDD1A58A5EDC009098F']\n",
      "driver.window_handles ['CDwindow-4D02D8DE079EB365FBF2A9718D437A85', 'CDwindow-C56F9992A5D6D68C7B840BCF0D8EF0AC']\n"
     ]
    }
   ],
   "source": [
    "options = Options()\n",
    "# options.headless = True\n",
    "while True:\n",
    "    try:\n",
    "        driver = webdriver.Chrome(\"E:\\softwares\\chromedriver_win32\\chromedriver.exe\", chrome_options=options)\n",
    "        driver.get(\"https://www.like4like.org/user/earn-youtube.php\")\n",
    "        main_window = driver.current_window_handle\n",
    "        #open tab\n",
    "        driver.execute_script(\"window.open('https://accounts.google.com/ServiceLogin');\")\n",
    "        scnd_win = driver.window_handles[1]\n",
    "        print(\"driver.window_handles\", driver.window_handles)\n",
    "        # driver.implicitly_wait(20)\n",
    "        # driver.find_element_by_xpath('//*[@id=\"buttons\"]/ytd-button-renderer/a').click()\n",
    "        driver.switch_to_window(scnd_win)\n",
    "        driver.implicitly_wait(10)\n",
    "        driver.find_element_by_tag_name('input').send_keys(\"khurshid4000591@cloud.neduet.edu.pk\")\n",
    "        driver.find_element_by_xpath(\"/html/body/div[1]/div[1]/div[2]/div/div[2]/div/div/div[2]/div/div[2]/div/div[1]/div/div/button\").click()\n",
    "        time.sleep(2)\n",
    "        driver.implicitly_wait(5)\n",
    "        driver.find_element_by_xpath('//input[@type=\"password\"]').send_keys(\"NEDuniversity23\")\n",
    "        driver.find_element_by_xpath(\"/html/body/div[1]/div[1]/div[2]/div/div[2]/div/div/div[2]/div/div[2]/div/div[1]/div/div/button\").click()\n",
    "        # # close the tab\n",
    "        driver.switch_to_window(main_window)\n",
    "        # driver.find_element_by_tag_name('body').send_keys(Keys.CONTROL + 'w') \n",
    "\n",
    "        driver.implicitly_wait(5)\n",
    "        driver.find_element_by_id(\"username\").send_keys(\"faizankhurshid23\")\n",
    "        time.sleep(3)\n",
    "        driver.find_element_by_id(\"password\").send_keys(\"pakistan343\")\n",
    "        # a = input(\"go ahead? \")\n",
    "        # try:\n",
    "        driver.find_element_by_xpath('//a[@class=\"form-button\"]').click()\n",
    "        # except:\n",
    "        #     pass\n",
    "        time.sleep(3)\n",
    "        driver.implicitly_wait(5)\n",
    "        driver.find_element_by_xpath('//a[@title=\"Earn Pages by Social Media Exchange\"]').click()\n",
    "        time.sleep(3)\n",
    "        driver.find_element_by_xpath('//a[@title=\"Earn Credits By YouTube Likes\" and @class=\"youtube\"]').click()\n",
    "        time.sleep(3)\n",
    "        # driver.find_element_by_xpath('//a[@title=\"Earn Credits By YouTube Subscribes\" and @class=\"youtube\"]').click()\n",
    "        while True:\n",
    "            driver.implicitly_wait(5)\n",
    "            driver.find_element_by_xpath('//a[contains(@class, \"cursor earn_pages_button\")]').click()\n",
    "            driver.switch_to_window(driver.window_handles[2])\n",
    "            time.sleep(5)\n",
    "            driver.implicitly_wait(20)\n",
    "            #like\n",
    "            driver.find_element_by_xpath('//div[@id=\"info-contents\"]//div[@id=\"info\"]//div[@id=\"menu-container\"]/div[@id=\"menu\"]/ytd-menu-renderer//div[@id=\"top-level-buttons-computed\"]/ytd-toggle-button-renderer[1]/a').click()\n",
    "            #subscribe\n",
    "        #     driver.find_element_by_xpath('/html/body/ytd-app/div/ytd-page-manager/ytd-browse[2]/div[3]/ytd-c4-tabbed-header-renderer/tp-yt-app-header-layout/div/tp-yt-app-header/div[2]/div[2]/div/div[1]/div/div[2]/div[4]/ytd-subscribe-button-renderer/tp-yt-paper-button').click()\n",
    "            time.sleep(5)\n",
    "            driver.close()\n",
    "            driver.switch_to_window(main_window)\n",
    "            time.sleep(10)\n",
    "    except:\n",
    "        for handle in driver.window_handles:\n",
    "            driver.switch_to.window(handle)\n",
    "            driver.close()\n",
    "        time.sleep(60 * 3)"
   ]
  },
  {
   "cell_type": "code",
   "execution_count": null,
   "metadata": {},
   "outputs": [],
   "source": []
  }
 ],
 "metadata": {
  "kernelspec": {
   "display_name": "Python 3",
   "language": "python",
   "name": "python3"
  },
  "language_info": {
   "codemirror_mode": {
    "name": "ipython",
    "version": 3
   },
   "file_extension": ".py",
   "mimetype": "text/x-python",
   "name": "python",
   "nbconvert_exporter": "python",
   "pygments_lexer": "ipython3",
   "version": "3.7.1"
  }
 },
 "nbformat": 4,
 "nbformat_minor": 2
}
