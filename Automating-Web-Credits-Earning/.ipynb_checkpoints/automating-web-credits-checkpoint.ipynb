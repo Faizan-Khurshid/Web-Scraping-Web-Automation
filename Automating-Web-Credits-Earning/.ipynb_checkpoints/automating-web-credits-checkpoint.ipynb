{
 "cells": [
  {
   "cell_type": "code",
   "execution_count": 1,
   "metadata": {},
   "outputs": [],
   "source": [
    "from selenium import webdriver\n",
    "from selenium.webdriver.common.keys import Keys\n",
    "from selenium.webdriver.chrome.options import Options\n",
    "import time"
   ]
  },
  {
   "cell_type": "code",
   "execution_count": null,
   "metadata": {},
   "outputs": [
    {
     "name": "stderr",
     "output_type": "stream",
     "text": [
      "C:\\ProgramData\\Anaconda3\\lib\\site-packages\\ipykernel_launcher.py:5: DeprecationWarning: use options instead of chrome_options\n",
      "  \"\"\"\n"
     ]
    },
    {
     "name": "stdout",
     "output_type": "stream",
     "text": [
      "driver.window_handles ['CDwindow-394EFADD6F6B44554D6272BD43827293', 'CDwindow-AB3D6DF5D6FA406C4BA31841EE6223B3']\n"
     ]
    },
    {
     "name": "stderr",
     "output_type": "stream",
     "text": [
      "C:\\ProgramData\\Anaconda3\\lib\\site-packages\\ipykernel_launcher.py:14: DeprecationWarning: use driver.switch_to.window instead\n",
      "  \n",
      "C:\\ProgramData\\Anaconda3\\lib\\site-packages\\ipykernel_launcher.py:23: DeprecationWarning: use driver.switch_to.window instead\n"
     ]
    },
    {
     "name": "stdout",
     "output_type": "stream",
     "text": [
      "driver.window_handles ['CDwindow-9304DA2017A840C25F8EE5484D01AA0E', 'CDwindow-1B5732E4B0578862C7A1EEA54E7010C2']\n",
      "driver.window_handles ['CDwindow-F409EE2B8CFD621A3FBBB20346ACCAC0', 'CDwindow-63FEDAF4CD8C81D7042AECE956D73FAD']\n"
     ]
    },
    {
     "name": "stderr",
     "output_type": "stream",
     "text": [
      "C:\\ProgramData\\Anaconda3\\lib\\site-packages\\ipykernel_launcher.py:45: DeprecationWarning: use driver.switch_to.window instead\n",
      "C:\\ProgramData\\Anaconda3\\lib\\site-packages\\ipykernel_launcher.py:54: DeprecationWarning: use driver.switch_to.window instead\n"
     ]
    },
    {
     "name": "stdout",
     "output_type": "stream",
     "text": [
      "driver.window_handles ['CDwindow-5D695895AC9B41BEA50E2BF1C1265967', 'CDwindow-48D13EFD17498E08EF5AF510E9E7D146']\n",
      "driver.window_handles ['CDwindow-F69F7C6DDE72A85AAA6FA864BBE21F55', 'CDwindow-6583A0D8ABB07AABE49F7EFC7B7E738F']\n",
      "driver.window_handles ['CDwindow-4D853EF775A3F53D56CF6BDBAAEA3458', 'CDwindow-F7B8D6340883D604E2F488DF37299FCA']\n",
      "driver.window_handles ['CDwindow-D1AFC29D098370C4B1B2A57B0768EFF9', 'CDwindow-27A1CE872967B7C0762528BD07D4D112']\n",
      "driver.window_handles ['CDwindow-9D38FF1119767F7C5B6F1D5D397BDFA0', 'CDwindow-D6F49AC30771C9033C13D43DBF2535D4']\n"
     ]
    }
   ],
   "source": [
    "options = Options()\n",
    "# options.headless = True\n",
    "while True:\n",
    "    try:\n",
    "        driver = webdriver.Chrome(\"E:\\softwares\\chromedriver_win32\\chromedriver.exe\", chrome_options=options)\n",
    "        driver.get(\"https://www.like4like.org/user/earn-youtube.php\")\n",
    "        main_window = driver.current_window_handle\n",
    "        #open tab\n",
    "        driver.execute_script(\"window.open('https://accounts.google.com/ServiceLogin');\")\n",
    "        scnd_win = driver.window_handles[1]\n",
    "        print(\"driver.window_handles\", driver.window_handles)\n",
    "        # driver.implicitly_wait(20)\n",
    "        # driver.find_element_by_xpath('//*[@id=\"buttons\"]/ytd-button-renderer/a').click()\n",
    "        driver.switch_to_window(scnd_win)\n",
    "        driver.implicitly_wait(10)\n",
    "        driver.find_element_by_tag_name('input').send_keys(\"<your gmail address>\")\n",
    "        driver.find_element_by_xpath(\"/html/body/div[1]/div[1]/div[2]/div/div[2]/div/div/div[2]/div/div[2]/div/div[1]/div/div/button\").click()\n",
    "        time.sleep(2)\n",
    "        driver.implicitly_wait(5)\n",
    "        driver.find_element_by_xpath('//input[@type=\"password\"]').send_keys(\"<your gmail account password>\")\n",
    "        driver.find_element_by_xpath(\"/html/body/div[1]/div[1]/div[2]/div/div[2]/div/div/div[2]/div/div[2]/div/div[1]/div/div/button\").click()\n",
    "        # # close the tab\n",
    "        driver.switch_to_window(main_window)\n",
    "        # driver.find_element_by_tag_name('body').send_keys(Keys.CONTROL + 'w') \n",
    "\n",
    "        driver.implicitly_wait(5)\n",
    "        driver.find_element_by_id(\"username\").send_keys(\"<registered account username on https://www.like4like.org>\")\n",
    "        time.sleep(3)\n",
    "        driver.find_element_by_id(\"password\").send_keys(\"<registered account password on https://www.like4like.org>\")\n",
    "        # a = input(\"go ahead? \")\n",
    "        # try:\n",
    "        driver.find_element_by_xpath('//a[@class=\"form-button\"]').click()\n",
    "        # except:\n",
    "        #     pass\n",
    "        time.sleep(3)\n",
    "        driver.implicitly_wait(5)\n",
    "        driver.find_element_by_xpath('//a[@title=\"Earn Pages by Social Media Exchange\"]').click()\n",
    "        time.sleep(3)\n",
    "        driver.find_element_by_xpath('//a[@title=\"Earn Credits By YouTube Likes\" and @class=\"youtube\"]').click()\n",
    "        time.sleep(3)\n",
    "        # driver.find_element_by_xpath('//a[@title=\"Earn Credits By YouTube Subscribes\" and @class=\"youtube\"]').click()\n",
    "        while True:\n",
    "            driver.implicitly_wait(5)\n",
    "            driver.find_element_by_xpath('//a[contains(@class, \"cursor earn_pages_button\")]').click()\n",
    "            driver.switch_to_window(driver.window_handles[2])\n",
    "            time.sleep(5)\n",
    "            driver.implicitly_wait(20)\n",
    "            #like\n",
    "            driver.find_element_by_xpath('//div[@id=\"info-contents\"]//div[@id=\"info\"]//div[@id=\"menu-container\"]/div[@id=\"menu\"]/ytd-menu-renderer//div[@id=\"top-level-buttons-computed\"]/ytd-toggle-button-renderer[1]/a').click()\n",
    "            #subscribe\n",
    "        #     driver.find_element_by_xpath('/html/body/ytd-app/div/ytd-page-manager/ytd-browse[2]/div[3]/ytd-c4-tabbed-header-renderer/tp-yt-app-header-layout/div/tp-yt-app-header/div[2]/div[2]/div/div[1]/div/div[2]/div[4]/ytd-subscribe-button-renderer/tp-yt-paper-button').click()\n",
    "            time.sleep(5)\n",
    "            driver.close()\n",
    "            driver.switch_to_window(main_window)\n",
    "            time.sleep(10)\n",
    "    except:\n",
    "        for handle in driver.window_handles:\n",
    "            driver.switch_to.window(handle)\n",
    "            driver.close()\n",
    "        time.sleep(60 * 3)"
   ]
  },
  {
   "cell_type": "code",
   "execution_count": null,
   "metadata": {},
   "outputs": [],
   "source": []
  }
 ],
 "metadata": {
  "kernelspec": {
   "display_name": "Python 3",
   "language": "python",
   "name": "python3"
  },
  "language_info": {
   "codemirror_mode": {
    "name": "ipython",
    "version": 3
   },
   "file_extension": ".py",
   "mimetype": "text/x-python",
   "name": "python",
   "nbconvert_exporter": "python",
   "pygments_lexer": "ipython3",
   "version": "3.7.1"
  }
 },
 "nbformat": 4,
 "nbformat_minor": 2
}
